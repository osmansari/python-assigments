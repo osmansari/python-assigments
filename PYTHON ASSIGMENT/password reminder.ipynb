{
 "cells": [
  {
   "cell_type": "code",
   "execution_count": null,
   "id": "0e34a92c-a797-4a1e-aaed-279615f10a21",
   "metadata": {},
   "outputs": [],
   "source": [
    "message = {\"Joseph\" : \"W@12\"}\n",
    "name = input(\"Please enter your first name: \") \n",
    "print(f\"Hello, {name.capitalize()}! The password is: {message[name.capitalize()]}\" if name.capitalize() in message.keys() else f\"Hello, {name.capitalize()}! See you later.\")\n"
   ]
  },
  {
   "cell_type": "code",
   "execution_count": null,
   "id": "de2341d2-d7ca-460e-b566-d880f3602b60",
   "metadata": {},
   "outputs": [],
   "source": []
  }
 ],
 "metadata": {
  "kernelspec": {
   "display_name": "Python 3 (ipykernel)",
   "language": "python",
   "name": "python3"
  },
  "language_info": {
   "codemirror_mode": {
    "name": "ipython",
    "version": 3
   },
   "file_extension": ".py",
   "mimetype": "text/x-python",
   "name": "python",
   "nbconvert_exporter": "python",
   "pygments_lexer": "ipython3",
   "version": "3.9.7"
  }
 },
 "nbformat": 4,
 "nbformat_minor": 5
}
