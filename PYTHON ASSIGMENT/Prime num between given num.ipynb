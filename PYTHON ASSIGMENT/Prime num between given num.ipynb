{
 "cells": [
  {
   "cell_type": "code",
   "execution_count": null,
   "id": "c31edce1-a002-40e2-8e12-a241f827c80b",
   "metadata": {},
   "outputs": [],
   "source": [
    "n = int(input(\"Please enter a number: \"))\n",
    "prime = [] \n",
    "for num in range(2, n):\n",
    "    result = [i for i in range(2, num) if not num % i]\n",
    "    if not result:\n",
    "        prime.append(num)\n",
    "print(prime)"
   ]
  },
  {
   "cell_type": "code",
   "execution_count": null,
   "id": "27b37bb1-c426-47d7-b7b7-842b09db8345",
   "metadata": {},
   "outputs": [],
   "source": []
  }
 ],
 "metadata": {
  "kernelspec": {
   "display_name": "Python 3 (ipykernel)",
   "language": "python",
   "name": "python3"
  },
  "language_info": {
   "codemirror_mode": {
    "name": "ipython",
    "version": 3
   },
   "file_extension": ".py",
   "mimetype": "text/x-python",
   "name": "python",
   "nbconvert_exporter": "python",
   "pygments_lexer": "ipython3",
   "version": "3.9.7"
  }
 },
 "nbformat": 4,
 "nbformat_minor": 5
}
