{
 "cells": [
  {
   "cell_type": "code",
   "execution_count": 1,
   "id": "12d8fb6f-7c55-4165-837b-c3bdfc0620e7",
   "metadata": {},
   "outputs": [
    {
     "data": {
      "text/plain": [
       "[1, 1, 2, 3, 5, 8, 13, 21, 34, 55]"
      ]
     },
     "execution_count": 1,
     "metadata": {},
     "output_type": "execute_result"
    }
   ],
   "source": [
    "def fibonacci(x):\n",
    "    list_ = [1, 1]\n",
    "    while list_[-1] < x:\n",
    "        list_ += [list_[-2] + list_[-1]]\n",
    "        if list_[-1] > x:\n",
    "            list_.pop()\n",
    "            break\n",
    "    return list_\n",
    "fibonacci(55)\n"
   ]
  },
  {
   "cell_type": "code",
   "execution_count": null,
   "id": "1e0a467c-a590-4c42-ac70-ed74fa5966f0",
   "metadata": {},
   "outputs": [],
   "source": []
  }
 ],
 "metadata": {
  "kernelspec": {
   "display_name": "Python 3 (ipykernel)",
   "language": "python",
   "name": "python3"
  },
  "language_info": {
   "codemirror_mode": {
    "name": "ipython",
    "version": 3
   },
   "file_extension": ".py",
   "mimetype": "text/x-python",
   "name": "python",
   "nbconvert_exporter": "python",
   "pygments_lexer": "ipython3",
   "version": "3.9.7"
  }
 },
 "nbformat": 4,
 "nbformat_minor": 5
}
