{
 "cells": [
  {
   "cell_type": "code",
   "execution_count": null,
   "id": "8d1e8373-cc7c-4fef-954e-06167f632494",
   "metadata": {},
   "outputs": [],
   "source": [
    "num = int(input(\"Please enter a number: \"))\n",
    "result = [i for i in range(2, num) if not num % i]\n",
    "print(f\"{num} is a prime number.\" if not result else f\"{num} is not a prime number.\")"
   ]
  },
  {
   "cell_type": "code",
   "execution_count": null,
   "id": "2fe82f04-0b80-4aa9-bf07-27999751739f",
   "metadata": {},
   "outputs": [],
   "source": []
  },
  {
   "cell_type": "code",
   "execution_count": null,
   "id": "6b6b343e-6c3f-449a-80d6-a4995f04febc",
   "metadata": {},
   "outputs": [],
   "source": [
    "liste = []\n",
    "for sayi in range(100) :\n",
    "  if sayi > 1 :\n",
    "    for i in range(2,sayi) :\n",
    "      if (sayi % i) == 0 :\n",
    "        break  \n",
    "    else :\n",
    "      liste.append(sayi)\n",
    "print(liste)"
   ]
  },
  {
   "cell_type": "code",
   "execution_count": null,
   "id": "4a0f92cc-6446-4877-8c40-1af7d53489fe",
   "metadata": {},
   "outputs": [],
   "source": []
  }
 ],
 "metadata": {
  "kernelspec": {
   "display_name": "Python 3 (ipykernel)",
   "language": "python",
   "name": "python3"
  },
  "language_info": {
   "codemirror_mode": {
    "name": "ipython",
    "version": 3
   },
   "file_extension": ".py",
   "mimetype": "text/x-python",
   "name": "python",
   "nbconvert_exporter": "python",
   "pygments_lexer": "ipython3",
   "version": "3.9.7"
  }
 },
 "nbformat": 4,
 "nbformat_minor": 5
}
