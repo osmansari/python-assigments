{
 "cells": [
  {
   "cell_type": "code",
   "execution_count": 1,
   "id": "9a0ae7c3-81ae-4d62-8155-5d8cb1b99ced",
   "metadata": {},
   "outputs": [
    {
     "name": "stdin",
     "output_type": "stream",
     "text": [
      "Please enter a word / text that will be analysed:  dfgdg\n"
     ]
    },
    {
     "name": "stdout",
     "output_type": "stream",
     "text": [
      "{'d': 2, 'f': 1, 'g': 2}\n"
     ]
    }
   ],
   "source": [
    "def analysed():\n",
    "    sentence = input(\"Please enter a word / text that will be analysed: \")\n",
    "    dict_ = {i: sentence.count(i) for i in sentence}\n",
    "    print(dict_)\n",
    "analysed()"
   ]
  },
  {
   "cell_type": "code",
   "execution_count": null,
   "id": "fc369621-3266-452c-a862-d2de08094045",
   "metadata": {},
   "outputs": [],
   "source": []
  }
 ],
 "metadata": {
  "kernelspec": {
   "display_name": "Python 3 (ipykernel)",
   "language": "python",
   "name": "python3"
  },
  "language_info": {
   "codemirror_mode": {
    "name": "ipython",
    "version": 3
   },
   "file_extension": ".py",
   "mimetype": "text/x-python",
   "name": "python",
   "nbconvert_exporter": "python",
   "pygments_lexer": "ipython3",
   "version": "3.9.7"
  }
 },
 "nbformat": 4,
 "nbformat_minor": 5
}
