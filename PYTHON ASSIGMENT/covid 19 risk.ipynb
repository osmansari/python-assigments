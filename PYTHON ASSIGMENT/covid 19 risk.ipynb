{
 "cells": [
  {
   "cell_type": "code",
   "execution_count": null,
   "id": "cc681435-5b1d-4b8f-8656-84dea18b45b1",
   "metadata": {},
   "outputs": [],
   "source": [
    "age =  # can be assigned only True/False\n",
    "chronic =  # can be assigned only True/False\n",
    "immune =  # can be assigned only True/False\n",
    "risk = ?\n",
    "\n",
    "age = input(\"Are you a cigarette addict older than 75 years old? Please reply with Yes/No: \")\n",
    "chronic = input(\"Do you have a severe chronic disease? Please reply with Yes/No: \")\n",
    "immune = input(\"Is your immune system too weak? Please reply with Yes/No: \")\n",
    "risk = bool(age.capitalize() == 'Yes') or bool(chronic.capitalize() == 'Yes') or bool(immune.capitalize() == 'Yes')\n",
    "if risk == True:\n",
    "    print(\"You are in risky group.\")\n",
    "else:\n",
    "    print(\"You are not in risky group.\")\n",
    "    \n",
    "    \n",
    "    \n",
    "    "
   ]
  },
  {
   "cell_type": "code",
   "execution_count": null,
   "id": "68e6a1ea-ba13-4ce6-92ef-f2beab0727a3",
   "metadata": {},
   "outputs": [],
   "source": []
  },
  {
   "cell_type": "code",
   "execution_count": null,
   "id": "14c08055-5e7d-4b55-8008-7fbcddd4bfe2",
   "metadata": {},
   "outputs": [],
   "source": []
  }
 ],
 "metadata": {
  "kernelspec": {
   "display_name": "Python 3 (ipykernel)",
   "language": "python",
   "name": "python3"
  },
  "language_info": {
   "codemirror_mode": {
    "name": "ipython",
    "version": 3
   },
   "file_extension": ".py",
   "mimetype": "text/x-python",
   "name": "python",
   "nbconvert_exporter": "python",
   "pygments_lexer": "ipython3",
   "version": "3.9.7"
  }
 },
 "nbformat": 4,
 "nbformat_minor": 5
}
