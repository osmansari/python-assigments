{
 "cells": [
  {
   "cell_type": "code",
   "execution_count": null,
   "id": "2a0a7e21-2c14-4b1a-9d0e-d1da9bf982a6",
   "metadata": {},
   "outputs": [],
   "source": [
    "while True:\n",
    "    num = input(\"Please enter positive integer number: \")\n",
    "    if not num.isdigit():\n",
    "        print(\"It is an invalid entry. Don't use non-numeric, float, or negative values! Please enter again!\")\n",
    "    else:\n",
    "        break\n",
    "lenght = len(num)\n",
    "sum_ = sum(int(i) ** lenght for i in num)\n",
    "print(f\"{num} is an Armstrong number.\" if sum_ == int(num) else f\"{num} is not an Armstrong number.\")"
   ]
  },
  {
   "cell_type": "code",
   "execution_count": null,
   "id": "76410266-d4ec-4885-9510-14406619d4b5",
   "metadata": {},
   "outputs": [],
   "source": []
  }
 ],
 "metadata": {
  "kernelspec": {
   "display_name": "Python 3 (ipykernel)",
   "language": "python",
   "name": "python3"
  },
  "language_info": {
   "codemirror_mode": {
    "name": "ipython",
    "version": 3
   },
   "file_extension": ".py",
   "mimetype": "text/x-python",
   "name": "python",
   "nbconvert_exporter": "python",
   "pygments_lexer": "ipython3",
   "version": "3.9.7"
  }
 },
 "nbformat": 4,
 "nbformat_minor": 5
}
